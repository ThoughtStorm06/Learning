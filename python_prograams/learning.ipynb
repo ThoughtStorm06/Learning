{
 "cells": [
  {
   "cell_type": "markdown",
   "id": "84b43247",
   "metadata": {},
   "source": [
    "20/12/2024"
   ]
  },
  {
   "cell_type": "code",
   "execution_count": null,
   "id": "51829e02",
   "metadata": {},
   "outputs": [],
   "source": [
    "print(\"Hello world\")"
   ]
  },
  {
   "cell_type": "code",
   "execution_count": null,
   "id": "c6a02a4b-c44a-481c-a986-10639ef33462",
   "metadata": {},
   "outputs": [],
   "source": [
    "a=10\n",
    "b=20\n",
    "print(f\"{a}+{b}={a+b}\")"
   ]
  },
  {
   "cell_type": "code",
   "execution_count": null,
   "id": "e9eb585e-cbe1-41e3-88d8-3419cf683288",
   "metadata": {},
   "outputs": [],
   "source": [
    "a=int(input(\"Enter a number: \"))\n",
    "b=int(input(\"Enter a number: \"))\n",
    "print(a,\"+\",b,\" = \",a+b)"
   ]
  },
  {
   "cell_type": "code",
   "execution_count": null,
   "id": "f6fb567c-0265-4a66-b384-f10b07b65411",
   "metadata": {},
   "outputs": [],
   "source": [
    "a=int(input(\"Enter a number: \"))\n",
    "b=int(input(\"Enter a number: \"))\n",
    "print(str(a)+\"+\"+str(b)+\"=\"+str(a+b))"
   ]
  },
  {
   "cell_type": "markdown",
   "id": "ce14520a",
   "metadata": {},
   "source": [
    "23/12/2024"
   ]
  },
  {
   "cell_type": "code",
   "execution_count": 9,
   "id": "b048fed1",
   "metadata": {},
   "outputs": [
    {
     "name": "stdout",
     "output_type": "stream",
     "text": [
      "Enter a number:  20\n",
      "Enter a number:  50\n"
     ]
    },
    {
     "name": "stdout",
     "output_type": "stream",
     "text": [
      "20 - 50  =  -30\n"
     ]
    }
   ],
   "source": [
    "#Subtraction\n",
    "a=input(\"Enter a number: \")\n",
    "b=input(\"Enter a number: \")\n",
    "c=int(a)-int(b)\n",
    "print(a,\"-\",b,\" = \",c)"
   ]
  },
  {
   "cell_type": "code",
   "execution_count": 8,
   "id": "83fdf5f2",
   "metadata": {},
   "outputs": [
    {
     "name": "stdout",
     "output_type": "stream",
     "text": [
      "Enter a number:  20\n",
      "Enter a number:  6\n"
     ]
    },
    {
     "name": "stdout",
     "output_type": "stream",
     "text": [
      "20 * 6  =  120\n"
     ]
    }
   ],
   "source": [
    "#Multiplication\n",
    "a=input(\"Enter a number: \")\n",
    "b=input(\"Enter a number: \")\n",
    "c=int(a)*int(b)\n",
    "print(a,\"*\",b,\" = \",c)"
   ]
  },
  {
   "cell_type": "code",
   "execution_count": 7,
   "id": "90b0913a",
   "metadata": {},
   "outputs": [
    {
     "name": "stdout",
     "output_type": "stream",
     "text": [
      "Enter a number:  10\n",
      "Enter a number:  6\n"
     ]
    },
    {
     "name": "stdout",
     "output_type": "stream",
     "text": [
      "10 / 6  =  1.6666666666666667\n"
     ]
    }
   ],
   "source": [
    "#Division\n",
    "a=input(\"Enter a number: \")\n",
    "b=input(\"Enter a number: \")\n",
    "c=int(a)/int(b)\n",
    "print(a,\"/\",b,\" = \",c)"
   ]
  },
  {
   "cell_type": "code",
   "execution_count": 6,
   "id": "198cec55",
   "metadata": {},
   "outputs": [
    {
     "name": "stdout",
     "output_type": "stream",
     "text": [
      "Enter a number:  10\n",
      "Enter a number:  6\n"
     ]
    },
    {
     "name": "stdout",
     "output_type": "stream",
     "text": [
      "10 // 6  =  1\n"
     ]
    }
   ],
   "source": [
    "#Floor Division\n",
    "a=input(\"Enter a number: \")\n",
    "b=input(\"Enter a number: \")\n",
    "c=int(a)//int(b)\n",
    "print(a,\"//\",b,\" = \",c)"
   ]
  },
  {
   "cell_type": "code",
   "execution_count": 5,
   "id": "e98b0ccf",
   "metadata": {},
   "outputs": [
    {
     "name": "stdout",
     "output_type": "stream",
     "text": [
      "Enter a number:  2\n",
      "Enter a number:  5\n"
     ]
    },
    {
     "name": "stdout",
     "output_type": "stream",
     "text": [
      "2 ** 5  =  32\n"
     ]
    }
   ],
   "source": [
    "#Exponent\n",
    "a=input(\"Enter a number: \")\n",
    "b=input(\"Enter a number: \")\n",
    "c=int(a)**int(b)\n",
    "print(a,\"**\",b,\" = \",c)"
   ]
  },
  {
   "cell_type": "code",
   "execution_count": 4,
   "id": "4207b918-7d8a-4857-94c0-8a333a6126cd",
   "metadata": {},
   "outputs": [
    {
     "name": "stdout",
     "output_type": "stream",
     "text": [
      "Enter a number:  10\n",
      "Enter a number:  20\n"
     ]
    },
    {
     "name": "stdout",
     "output_type": "stream",
     "text": [
      "10 % 20  =  10\n"
     ]
    }
   ],
   "source": [
    "#Remainder\n",
    "a=input(\"Enter a number: \")\n",
    "b=input(\"Enter a number: \")\n",
    "c=int(a)%int(b)\n",
    "print(a,\"%\",b,\" = \",c)"
   ]
  },
  {
   "cell_type": "code",
   "execution_count": 1,
   "id": "01bcb585",
   "metadata": {},
   "outputs": [
    {
     "name": "stdout",
     "output_type": "stream",
     "text": [
      "Principal Amount       : 5000\n",
      "No of years            : 2\n",
      "Rate of Interest       : 10\n"
     ]
    },
    {
     "name": "stdout",
     "output_type": "stream",
     "text": [
      "Interest               : 1000\n",
      "------------------------------\n",
      "Total Amount           : 6000\n",
      "------------------------------\n"
     ]
    }
   ],
   "source": [
    "#Simple Interest\n",
    "p=int(input(\"Principal Amount       :\"))\n",
    "n=int(input(\"No of years            :\"))\n",
    "r=int(input(\"Rate of Interest       :\"))\n",
    "si=(p*n*r)/100\n",
    "ta=si+p\n",
    "print(\"Interest               :\",int(si))\n",
    "print(\"-\"*30)\n",
    "print(\"Total Amount           :\",int(ta))\n",
    "print(\"-\"*30)"
   ]
  },
  {
   "cell_type": "code",
   "execution_count": 3,
   "id": "8732fcfa-ea41-42cc-868f-a5dbe920e982",
   "metadata": {},
   "outputs": [
    {
     "name": "stdout",
     "output_type": "stream",
     "text": [
      "Enter first number:  10\n",
      "Enter second number:  20\n"
     ]
    },
    {
     "name": "stdout",
     "output_type": "stream",
     "text": [
      "20 is larger than  10\n"
     ]
    }
   ],
   "source": [
    "#Largest of two numbers\n",
    "a=int(input(\"Enter first number: \"))\n",
    "b=int(input(\"Enter second number: \"))\n",
    "if(a>b):\n",
    "    print(a,\"is larger than \",b)\n",
    "else:\n",
    "    print(b,\"is larger than \",a)"
   ]
  },
  {
   "cell_type": "code",
   "execution_count": 2,
   "id": "164e5e42-d843-46ae-bbd1-7e0c07d7514a",
   "metadata": {},
   "outputs": [
    {
     "name": "stdout",
     "output_type": "stream",
     "text": [
      "Enter first number:  10\n",
      "Enter second number:  20\n",
      "Enter third number:  30\n"
     ]
    },
    {
     "name": "stdout",
     "output_type": "stream",
     "text": [
      "30 is larger than  10   20\n"
     ]
    },
    {
     "name": "stdout",
     "output_type": "stream",
     "text": [
      "30 is larger than  10   20\n"
     ]
    },
    {
     "name": "stdout",
     "output_type": "stream",
     "text": [
      "Largest number is : 30\n"
     ]
    },
    {
     "name": "stdout",
     "output_type": "stream",
     "text": [
      "Largest number is : 30\n"
     ]
    }
   ],
   "source": [
    "#Largest of three numbers\n",
    "a=int(input(\"Enter first number: \"))\n",
    "b=int(input(\"Enter second number: \"))\n",
    "c=int(input(\"Enter third number: \"))\n",
    "if(a>b):\n",
    "    if(a>c):\n",
    "        print(a,\"is larger than \",b,\" \",c)\n",
    "    else:\n",
    "        print(c,\"is larger than \",a,\" \",b)\n",
    "else:\n",
    "    if(b>c):\n",
    "        print(b,\"is larger than \",a,\" \",c)\n",
    "    else:\n",
    "        print(c,\"is larger than \",a,\" \",b)\n"
   ]
  },
  {
   "cell_type": "markdown",
   "id": "4a0090f4",
   "metadata": {},
   "source": [
    "31/12/2024\n"
   ]
  },
  {
   "cell_type": "code",
   "execution_count": 3,
   "id": "c95c87f9-ff6a-41c9-96ec-2bb929fd8c14",
   "metadata": {},
   "outputs": [
    {
     "name": "stdout",
     "output_type": "stream",
     "text": [
      "10 X 1 = 10\n",
      "10 X 2 = 20\n",
      "10 X 3 = 30\n",
      "10 X 4 = 40\n",
      "10 X 5 = 50\n",
      "10 X 6 = 60\n",
      "10 X 7 = 70\n",
      "10 X 8 = 80\n",
      "10 X 9 = 90\n",
      "10 X 10 = 100\n"
     ]
    }
   ],
   "source": [
    "#MULTIPLICATION TABLE\n",
    "n=int(input(\"Enter a number to print its multiplication table :\"))\n",
    "i=1\n",
    "while i<=10:\n",
    "    print(f\"{n} X {i} = {n*i}\")\n",
    "    i+=1"
   ]
  },
  {
   "cell_type": "code",
   "execution_count": 5,
   "id": "5c8c5ff5",
   "metadata": {},
   "outputs": [
    {
     "name": "stdout",
     "output_type": "stream",
     "text": [
      "2 4 6 8 10 12 14 16 18 20 "
     ]
    }
   ],
   "source": [
    "#TO PRINT FIRST EVEN NUMBERS\n",
    "num=int(input(\"Enter the number of even numbers to be printed :\"))\n",
    "i=2\n",
    "while i<=2*n :\n",
    "    print(i,end=\" \")\n",
    "    i+=2"
   ]
  },
  {
   "cell_type": "code",
   "execution_count": 7,
   "id": "c11cd79f",
   "metadata": {},
   "outputs": [
    {
     "name": "stdout",
     "output_type": "stream",
     "text": [
      "1 3 5 7 9 "
     ]
    }
   ],
   "source": [
    "#WRITE A PROGRAM TO PRINT FIRST N ODD NUMBERS\n",
    "num=int(input(\"Enter the number of odd numbers to be printed :\"))\n",
    "i=1\n",
    "while i<=(2*num -1) :\n",
    "    print(i,end=\" \")\n",
    "    i+=2"
   ]
  },
  {
   "cell_type": "code",
   "execution_count": 12,
   "id": "4638d0a8",
   "metadata": {},
   "outputs": [
    {
     "name": "stdout",
     "output_type": "stream",
     "text": [
      "Number is Prime\n"
     ]
    }
   ],
   "source": [
    "#TO CHECK IF GIVEN NUMBER IS PRIME OR NOT\n",
    "num=int(input(\"Enter the number :\"))\n",
    "i=2\n",
    "count=1\n",
    "while (i<num) :\n",
    "    if(num%i==0):\n",
    "        print(\"Number is not prime\")\n",
    "        count=0\n",
    "        break\n",
    "    i+=1\n",
    "if count==1:\n",
    "    print(\"Number is Prime\")"
   ]
  },
  {
   "cell_type": "markdown",
   "id": "9ee64c74",
   "metadata": {},
   "source": [
    "06/01/2025"
   ]
  },
  {
   "cell_type": "code",
   "execution_count": null,
   "id": "9ed1f2bc",
   "metadata": {},
   "outputs": [],
   "source": [
    "n=int(input(\"Enter how many prime numbers to print: \"))\n",
    "fc = 0\n",
    "tc = 0 \n",
    "j = 2 \n",
    "while tc<n: \n",
    "    i = 1 \n",
    "    fc = 0 \n",
    "    while i <= j: \n",
    "        if j%i==0: \n",
    "            fc = fc + 1 \n",
    "        i = i + 1 \n",
    "    if fc == 2:\n",
    "        print(j, end=\"\")\n",
    "        tc = tc + 1\n",
    "    j = j + 1"
   ]
  },
  {
   "cell_type": "code",
   "execution_count": null,
   "id": "d740aed1",
   "metadata": {},
   "outputs": [],
   "source": [
    "#Write a program to print first n Fibonacci numbers\n",
    "\n",
    "#input:5\n",
    "\n",
    "#Expected Output:01 123\n",
    "\n",
    "n = int(input(\"Enter how many Fibonacci numbers to print: \"))\n",
    "\n",
    "fib0=0\n",
    "fib1=1\n",
    "tc=0\n",
    "while tc < n:\n",
    "    fib=fib0+fib1\n",
    "    print(fib0,end=\" \")\n",
    "    fib0=fib1\n",
    "    fib1=fib\n",
    "    tc+=1"
   ]
  },
  {
   "cell_type": "code",
   "execution_count": null,
   "id": "f38a18c4",
   "metadata": {},
   "outputs": [],
   "source": [
    "#calculate factorial of a number\n",
    "\n",
    "n=int(input(\"Enter a number to calculate Factorial\"))\n",
    "\n",
    "fact=1\n",
    "i=1\n",
    "while i<=n:\n",
    "    fact=fact*1\n",
    "    i+=1\n",
    "print(\"Factorial of \",n,\" is \", fact)"
   ]
  },
  {
   "cell_type": "code",
   "execution_count": null,
   "id": "d06167e4",
   "metadata": {},
   "outputs": [],
   "source": [
    "#calculate factorial of a number using math module\n",
    "import math\n",
    "n=int(input(\"Enter a number to calculate Factorial\"))\n",
    "fact=math.factorial(n)\n",
    "print(\"Factorial of \",n,\" is \", fact)"
   ]
  },
  {
   "cell_type": "code",
   "execution_count": null,
   "id": "16a45cf2",
   "metadata": {},
   "outputs": [],
   "source": [
    "#GCD using pre defined function\n",
    "import math\n",
    "a=int(input(\"Enter First number:\"))\n",
    "b=int(input(\"Enter Second number:\"))\n",
    "num=math.gcd(a,b)\n",
    "print(num)"
   ]
  },
  {
   "cell_type": "code",
   "execution_count": null,
   "id": "bfa1323d",
   "metadata": {},
   "outputs": [],
   "source": [
    "#GCD using User defined code\n",
    "a=int(input(\"Enter First number:\"))\n",
    "b=int(input(\"Enter Second number:\"))\n",
    "while(b!=0): \n",
    "    rem=a%b \n",
    "    a = b\n",
    "    b = rem\n",
    "print(\"GCD=\",a)"
   ]
  },
  {
   "cell_type": "code",
   "execution_count": null,
   "id": "7fcf1593",
   "metadata": {},
   "outputs": [],
   "source": [
    "#Hint: Strong number is a special number whose sum of\n",
    "\n",
    "#the factorial of digits is equal to the original number.\n",
    "\n",
    "#For Example: 145 is strong number. Since, 1! + 4! + 51 = 145\n",
    "\n",
    "import math\n",
    "\n",
    "n=int(input(\"Enter a number\"))\n",
    "\n",
    "n1=n\n",
    "\n",
    "fsum=0 \n",
    "while n!=0: \n",
    "    d=n%10 \n",
    "    fsum=fsum+math.factorial(d) \n",
    "    n=int(n/10) \n",
    "if(n1==fsum): \n",
    "    print(n1, \"strong Number\")\n",
    "\n",
    "else:\n",
    "    print(n1, \"is Not a strong Number\")"
   ]
  },
  {
   "cell_type": "code",
   "execution_count": null,
   "id": "16fde1f1",
   "metadata": {},
   "outputs": [],
   "source": [
    "#Check whether the given input is perfect\n",
    "\n",
    "#Hint: A number is a perfect number if it is equal to sum of its\n",
    "\n",
    "#proper divisors, that is, sum of its positive divisors\n",
    "\n",
    "#excluding the number itself.\n",
    "\n",
    "#Write a function to check if a given number is perfect or not.\n",
    "\n",
    "#examples are 6,28,496, 8128\n",
    "\n",
    "#for 28-->1, 2, 4, 7, 14--Sum=28\n",
    "\n",
    "n=int(input(\"Enter a number:\"))\n",
    "\n",
    "fsum=0\n",
    "\n",
    "for i in range(1,n):\n",
    "    if(n%i==0):\n",
    "        fsum=fsum+i\n",
    "if(n==fsum):\n",
    "    print(n, \"is a Perfect Number\")\n",
    "\n",
    "else:\n",
    "    print(n, \"is Not a Perfect Number\")"
   ]
  },
  {
   "cell_type": "code",
   "execution_count": null,
   "id": "b397d54c",
   "metadata": {},
   "outputs": [],
   "source": [
    "#Generate all perfect numbers till 10000\n",
    "\n",
    "print(\"Below are all perfect numbers till 10000\")\n",
    "\n",
    "n = 2\n",
    "for n in range (1000):\n",
    "    sum = 1\n",
    "    i = 2\n",
    "    while i *i <= n:\n",
    "        if n % i == 0:\n",
    "            sum = sum + i + n / 1\n",
    "        i += 1\n",
    "    if sum == n and n != 1:\n",
    "        print(n)\n",
    "    else:\n",
    "        pass"
   ]
  },
  {
   "cell_type": "code",
   "execution_count": null,
   "id": "2fd7c61c",
   "metadata": {},
   "outputs": [],
   "source": [
    "#Check whether the given input is palindrome\n",
    "\n",
    "n=int(input(\"Enter a number:\"))\n",
    "\n",
    "n * 1 = n\n",
    "\n",
    "rev=0\n",
    "\n",
    "while n != 0:\n",
    "    d = n%  10\n",
    "    rev=rev*10+d\n",
    "    n = int(n / 10)\n",
    "if(n1==rev):\n",
    "    print(rev, \"is pallindrome\")\n",
    "else:\n",
    "    print(rev, \"is Not a pallindrome\")"
   ]
  },
  {
   "cell_type": "code",
   "execution_count": null,
   "id": "44e520bd",
   "metadata": {},
   "outputs": [],
   "source": [
    "#Accepting 5 different subject marks from user and displaying\n",
    "\n",
    "#the grade of the student\n",
    "total=0\n",
    "i=1\n",
    "while i<=5:\n",
    "    subj=int(input(\"Enter marks above 40 for each subject:\"))\n",
    "    if subj<40:\n",
    "        continue\n",
    "    i=i+1\n",
    "    total=total+subj\n",
    "per=int(total/5)\n",
    "print(\"total=\", total)\n",
    "print(\"Percentage:\", per)\n",
    "if per>=80:\n",
    "    print(\"passed in distinction\")\n",
    "elif per>=60:\n",
    "    print(\"passed in First Class\")\n",
    "elif per>=50:\n",
    "    print(\"passed in Second Class\")\n",
    "elif per>=40:\n",
    "    print(\"passed in third Class\")"
   ]
  },
  {
   "cell_type": "code",
   "execution_count": null,
   "id": "1f6b080a",
   "metadata": {},
   "outputs": [
    {
     "name": "stdout",
     "output_type": "stream",
     "text": [
      "Menu for calculator\n",
      "1.Addition\n",
      "2.subtraction\n",
      "3.Multiplication\n",
      "4.Divison\n",
      "5.Floor Division\n",
      "6. Exponantation\n",
      "7.Remainder\n",
      "8.Exit\n"
     ]
    },
    {
     "name": "stdout",
     "output_type": "stream",
     "text": [
      "Enter Your choice 9\n"
     ]
    },
    {
     "name": "stdout",
     "output_type": "stream",
     "text": [
      "Invalid Choice\n",
      "\n",
      "Menu for calculator\n",
      "1.Addition\n",
      "2.subtraction\n",
      "3.Multiplication\n",
      "4.Divison\n",
      "5.Floor Division\n",
      "6. Exponantation\n",
      "7.Remainder\n",
      "8.Exit\n"
     ]
    },
    {
     "name": "stdout",
     "output_type": "stream",
     "text": [
      "Enter Your choice 10\n"
     ]
    },
    {
     "name": "stdout",
     "output_type": "stream",
     "text": [
      "Invalid Choice\n",
      "\n",
      "Menu for calculator\n",
      "1.Addition\n",
      "2.subtraction\n",
      "3.Multiplication\n",
      "4.Divison\n",
      "5.Floor Division\n",
      "6. Exponantation\n",
      "7.Remainder\n",
      "8.Exit\n"
     ]
    }
   ],
   "source": [
    "#write a program to implement simple calculator while True:\n",
    "while True :\n",
    "    print(\"Menu for calculator\")\n",
    "    print(\"1.Addition\")\n",
    "    print(\"2.subtraction\")\n",
    "    print(\"3.Multiplication\")\n",
    "    print(\"4.Divison\")\n",
    "    print(\"5.Floor Division\")\n",
    "    print(\"6. Exponantation\")\n",
    "    print(\"7.Remainder\")\n",
    "    print(\"8.Exit\")\n",
    "    ch = int(input(\"Enter Your choice\"))\n",
    "    if ch==8:\n",
    "        print(\"You are exited from the menu\")\n",
    "        break\n",
    "    if ch>8:\n",
    "        print(\"Invalid Choice\")\n",
    "        print()\n",
    "        continue\n",
    "    op1=int(input(\"Enter First number\")) \n",
    "    op2=int(input(\"Enter Second number\"))\n",
    "    if ch==1:\n",
    "        print(op1, \"+\", op2, \"=\", op1+op2)\n",
    "    elif ch==2:\n",
    "        print(op1,\"-\", op2, \"=\", op1-op2)\n",
    "    elif ch==3:\n",
    "        print(op1,\"*\", op2, \"=\", op1*op2)\n",
    "    elif ch==4:\n",
    "        print(op1, \"/\", op2, \"=\", op1/op2)\n",
    "    elif ch==5:\n",
    "        print(op1,\"//\", op2, \"=\", op1//op2)\n",
    "    elif ch==6:\n",
    "        print(op1, \"**\", op2, \"=\", op1**op2)\n",
    "    else:\n",
    "        print(op1, \"%\", op2, \"=\", op1%op2)\n",
    "    print()\n",
    "\n"
   ]
  },
  {
   "cell_type": "markdown",
   "id": "c1c0612d-db2e-4347-8427-c9d8263fa27a",
   "metadata": {},
   "source": [
    "20/01/2025\n"
   ]
  },
  {
   "cell_type": "code",
   "execution_count": 1,
   "id": "fab122d5-b3cd-4849-a01b-c0e49b27e175",
   "metadata": {},
   "outputs": [
    {
     "name": "stdout",
     "output_type": "stream",
     "text": [
      "Hello world\n"
     ]
    }
   ],
   "source": [
    "#concatenation\n",
    "str1='Hello'\n",
    "str2=' world'\n",
    "str3=str1+str2\n",
    "print(str3)"
   ]
  },
  {
   "cell_type": "code",
   "execution_count": 3,
   "id": "da1d4d0e-b818-427f-a85e-d63ce5c45786",
   "metadata": {},
   "outputs": [
    {
     "name": "stdout",
     "output_type": "stream",
     "text": [
      "o\n"
     ]
    }
   ],
   "source": [
    "#Accessing individual elements\n",
    "str1=\"Hello World!\"\n",
    "print(str1[4])"
   ]
  },
  {
   "cell_type": "code",
   "execution_count": 1,
   "id": "12663fb6-b0a0-4c95-8a40-19dba7146c4c",
   "metadata": {},
   "outputs": [
    {
     "name": "stdout",
     "output_type": "stream",
     "text": [
      "12345\n",
      "12345\n",
      "1357\n",
      "345678\n",
      "12345\n",
      "1357\n",
      "4567\n",
      "87654321\n",
      "8765\n"
     ]
    }
   ],
   "source": [
    "#slicing\n",
    "str='12345678'\n",
    "print(str[0:5:1])\n",
    "print(str[0:5])\n",
    "\n",
    "#step value specification\n",
    "print(str[0:7:2])\n",
    "\n",
    "#using start index only\n",
    "print(str[2:])\n",
    "\n",
    "#using end index only\n",
    "print(str[:5])\n",
    "\n",
    "#no starting or ending indices.\n",
    "print(str[::2])\n",
    "\n",
    "#negative indices:\n",
    "print(str[-5:-1])\n",
    "\n",
    "#Reversing a string using negative indices\n",
    "print(str[::-1])\n",
    "\n",
    "#slicing with negative indices and negative count\n",
    "print(str[-1:-5:-1])\n",
    "\n"
   ]
  },
  {
   "cell_type": "markdown",
   "id": "e7b61285",
   "metadata": {},
   "source": [
    "21/01/2025\n"
   ]
  },
  {
   "cell_type": "code",
   "execution_count": 1,
   "id": "7bf01f1f",
   "metadata": {},
   "outputs": [
    {
     "name": "stdout",
     "output_type": "stream",
     "text": [
      " jay is learning \n",
      " jay is learning \n",
      "Jay is Learning\n",
      "2\n",
      "False\n",
      "-1\n",
      "False\n",
      "False\n",
      "False\n",
      "False\n",
      "False\n",
      "False\n",
      "False\n",
      "False\n",
      " Joy is Learning \n",
      "['Jay', 'is', 'Learning']\n",
      "True\n",
      " jAY IS lEARNING \n",
      " JAY IS LEARNING \n",
      " jay is learning \n"
     ]
    }
   ],
   "source": [
    "str=\" Jay is Learning \"\n",
    "\n",
    "#capitalize\n",
    "print(str.capitalize())\n",
    "\n",
    "#casefold\n",
    "print(str.casefold())\n",
    "\n",
    "#strip\n",
    "print(str.strip())\n",
    "\n",
    "#count\n",
    "print(str.count('i'))\n",
    "\n",
    "#endswith\n",
    "print(str.endswith('g'))\n",
    "\n",
    "#find\n",
    "print(str.find('lea'))\n",
    "\n",
    "#isalnum\n",
    "print(str.isalnum())\n",
    "\n",
    "#isalpha\n",
    "print(str.isalpha())\n",
    "\n",
    "#isdigit\n",
    "print(str.isdigit())\n",
    "\n",
    "#islower\n",
    "print(str.islower())\n",
    "\n",
    "#isnumeric()\n",
    "print(str.isnumeric())\n",
    "\n",
    "#isspace\n",
    "print(str.isspace())\n",
    "\n",
    "#istitle\n",
    "print(str.istitle())\n",
    "\n",
    "#isupper\n",
    "print(str.isupper())\n",
    "\n",
    "#replace\n",
    "print(str.replace('Jay','Joy'))\n",
    "\n",
    "#split\n",
    "print(str.split())\n",
    "\n",
    "#startswith\n",
    "print(str.startswith(' '))\n",
    "\n",
    "#swapcase\n",
    "print(str.swapcase())\n",
    "\n",
    "#upper\n",
    "print(str.upper())\n",
    "\n",
    "#lower\n",
    "print(str.lower())"
   ]
  },
  {
   "cell_type": "code",
   "execution_count": null,
   "id": "fb15f1e0-79e0-4f22-9765-bd9db412d838",
   "metadata": {},
   "outputs": [
    {
     "name": "stdout",
     "output_type": "stream",
     "text": [
      "gjv vj jv \n",
      " 3\n"
     ]
    }
   ],
   "source": [
    "#to  count number os words in the string\n",
    "str=input(\"Enter a sentence: \")\n",
    "print(str,\"\\n\",len(str.split()))"
   ]
  },
  {
   "cell_type": "code",
   "execution_count": 10,
   "id": "ea6dbfba",
   "metadata": {},
   "outputs": [
    {
     "name": "stdout",
     "output_type": "stream",
     "text": [
      "sum =5 , digits =2\n"
     ]
    }
   ],
   "source": [
    "\n",
    "str=input(\"ENter a string: \")\n",
    "count=0\n",
    "sum=0\n",
    "for x in str:\n",
    "    if x.isdigit():\n",
    "        count+=1\n",
    "        sum+=int(x)\n",
    "print(f\"sum ={sum} , digits ={count}\")"
   ]
  },
  {
   "cell_type": "code",
   "execution_count": 4,
   "id": "504c0243",
   "metadata": {},
   "outputs": [
    {
     "name": "stdout",
     "output_type": "stream",
     "text": [
      "8\n",
      "<bound method Random.randint of <random.Random object at 0x00000203355A9850>>\n"
     ]
    }
   ],
   "source": [
    "import random as r\n",
    "i=int(input(\"Enter starting range: \"))\n",
    "j=int(input(\"Enter ending range: \"))\n",
    "k=int(input(\"Enter the number of randoms to be generated: \"))\n",
    "for l in range(0,k) :\n",
    "   print(r.randrange(i,j))"
   ]
  },
  {
   "cell_type": "code",
   "execution_count": 11,
   "id": "9c10fe9c",
   "metadata": {},
   "outputs": [
    {
     "name": "stdout",
     "output_type": "stream",
     "text": [
      "2\n"
     ]
    }
   ],
   "source": [
    "str=input(\"ENter a string: \")\n",
    "print(len(str))"
   ]
  },
  {
   "cell_type": "code",
   "execution_count": 12,
   "id": "9a28bb2b",
   "metadata": {},
   "outputs": [
    {
     "ename": "SyntaxError",
     "evalue": "incomplete input (3096337200.py, line 7)",
     "output_type": "error",
     "traceback": [
      "\u001b[1;36m  Cell \u001b[1;32mIn[12], line 7\u001b[1;36m\u001b[0m\n\u001b[1;33m    if x.isupper() :\u001b[0m\n\u001b[1;37m                    ^\u001b[0m\n\u001b[1;31mSyntaxError\u001b[0m\u001b[1;31m:\u001b[0m incomplete input\n"
     ]
    }
   ],
   "source": [
    "str=input(\"ENter a string: \")\n",
    "lower=0\n",
    "upper=0\n",
    "for x in str :\n",
    "    if x.islower() :\n",
    "        lower+=1\n",
    "    if x.isupper() :\n",
    "        upper+=1\n",
    "print(\"upper=\", upper)\n",
    "print(\"lower= \", lower)"
   ]
  },
  {
   "cell_type": "code",
   "execution_count": 13,
   "id": "e72777f7",
   "metadata": {},
   "outputs": [
    {
     "name": "stdout",
     "output_type": "stream",
     "text": [
      "0\n"
     ]
    }
   ],
   "source": [
    "str=input(\"ENter a string: \")\n",
    "x=input(\"Enter the word to find its occurenece\")\n",
    "print(str.count(x)) "
   ]
  },
  {
   "cell_type": "code",
   "execution_count": 9,
   "id": "6b2e3e69",
   "metadata": {},
   "outputs": [
    {
     "name": "stdout",
     "output_type": "stream",
     "text": [
      "Palindrome\n"
     ]
    }
   ],
   "source": [
    "str=(input(\"Enter a string: \")).lower()\n",
    "if str==str[::-1] :\n",
    "    print(\"Palindrome\")\n",
    "else :\n",
    "    print(\"Not a palindrome\")"
   ]
  },
  {
   "cell_type": "code",
   "execution_count": 6,
   "id": "97e4818a",
   "metadata": {},
   "outputs": [
    {
     "name": "stdout",
     "output_type": "stream",
     "text": [
      "hhhgs\n"
     ]
    }
   ],
   "source": [
    "str=input(\"ENter a string: \")\n",
    "s=\"\"\n",
    "for i in str:\n",
    "    if i.isalpha() :\n",
    "        if i.isupper() :\n",
    "            i=chr(ord(i)+32)\n",
    "        s+=i\n",
    "print(s)"
   ]
  },
  {
   "cell_type": "code",
   "execution_count": 1,
   "id": "4b1783a7",
   "metadata": {},
   "outputs": [
    {
     "name": "stdout",
     "output_type": "stream",
     "text": [
      "DGSAD\n"
     ]
    }
   ],
   "source": [
    "str=input(\"ENter a string: \")\n",
    "s=\"\"\n",
    "for i in str:\n",
    "    if i.isalpha() :\n",
    "        if i.islower() :\n",
    "            i=chr(ord(i)-32)\n",
    "        s+=i\n",
    "print(s)"
   ]
  },
  {
   "cell_type": "code",
   "execution_count": null,
   "id": "d4de2392",
   "metadata": {},
   "outputs": [],
   "source": []
  }
 ],
 "metadata": {
  "kernelspec": {
   "display_name": ".venv",
   "language": "python",
   "name": "python3"
  },
  "language_info": {
   "codemirror_mode": {
    "name": "ipython",
    "version": 3
   },
   "file_extension": ".py",
   "mimetype": "text/x-python",
   "name": "python",
   "nbconvert_exporter": "python",
   "pygments_lexer": "ipython3",
   "version": "3.12.7"
  }
 },
 "nbformat": 4,
 "nbformat_minor": 5
}

{
 "cells": [
  {
   "cell_type": "markdown",
   "metadata": {},
   "source": [
    "create a function which accepts two inputs from the user and compute nCr."
   ]
  },
  {
   "cell_type": "code",
   "execution_count": null,
   "metadata": {},
   "outputs": [],
   "source": [
    "def fac(n):\n",
    "    fac=1\n",
    "    for i in range (1,n+1):\n",
    "        fac*=i\n",
    "    return int(fac)\n",
    "def nCr(n,r):\n",
    "    result=fac(n)/(fac(r)*fac(n-r))\n",
    "    return result\n",
    "\n",
    "if __name__==\"__main__\":\n",
    "    n=int(input(\"Enter the value of power 'n':\"))\n",
    "    r=int(input(\"Enter the value of power 'r':\"))\n",
    "    print(f\"nCr = {nCr(n,r)}\")"
   ]
  },
  {
   "cell_type": "markdown",
   "metadata": {},
   "source": [
    "Recursive function to compute GCD of 2 numbers"
   ]
  },
  {
   "cell_type": "code",
   "execution_count": null,
   "metadata": {},
   "outputs": [],
   "source": [
    "def gcd(a,b):\n",
    "    if b==0:\n",
    "        return a\n",
    "    result=gcd(b,a%b)\n",
    "    return result\n",
    "if __name__==\"__main__\":\n",
    "    a=int(input(\"Enter a value:\"))\n",
    "    b=int(input(\"Enter a value:\"))\n",
    "    if b>a:\n",
    "        a,b=b,a\n",
    "    print(f\"GCD of {a},{b} = {gcd(a,b)}\")"
   ]
  },
  {
   "cell_type": "markdown",
   "metadata": {},
   "source": [
    "Recursive Function to find product of two numbers"
   ]
  },
  {
   "cell_type": "code",
   "execution_count": null,
   "metadata": {},
   "outputs": [],
   "source": [
    "def product(a,b):\n",
    "    if b==0:\n",
    "        return 0\n",
    "    result=a+product(a,b-1)\n",
    "    return result\n",
    "if __name__ == \"__main__\":\n",
    "    p1=int(input(\"Enter the value:\"))\n",
    "    p2=int(input(\"Enter the value:\"))\n",
    "    print(f\"product of numbers {p1},{p2} = {product(p1,p2)}\")"
   ]
  },
  {
   "cell_type": "markdown",
   "metadata": {},
   "source": [
    "Recursive function to generate fibonacci series."
   ]
  },
  {
   "cell_type": "code",
   "execution_count": null,
   "metadata": {},
   "outputs": [],
   "source": [
    "def fib(n):\n",
    "    if n==0:\n",
    "        return 0\n",
    "    elif n==1:\n",
    "        return 1\n",
    "    else:\n",
    "        return fib(n-1)+fib(n-2)\n",
    "if __name__ == \"__main__\":\n",
    "    n=int(input(\"Enter the value:\"))\n",
    "    for i in range(n):\n",
    "        print(fib(i),end=\" \")"
   ]
  },
  {
   "cell_type": "code",
   "execution_count": null,
   "metadata": {},
   "outputs": [],
   "source": [
    "#5\n",
    "l=['red','green','white','black','pink','yellow']\n",
    "i=input(\"Enter 0 if u want to work on user defined list,else click any other button to continue with predefined list data:\")\n",
    "if(i=='0'):\n",
    "   print(\"Enter list values:\")\n",
    "   l=input().split()\n",
    "l.pop(5)\n",
    "l.pop(4)\n",
    "l.pop(0)\n",
    "print(l)\n"
   ]
  },
  {
   "cell_type": "code",
   "execution_count": null,
   "metadata": {},
   "outputs": [],
   "source": [
    "i=list(set(input(\"Enter elements of 1st list:\").split()))\n",
    "j=list(set(input(\"Enter elements of 2nd list:\").split()))\n",
    "if(len(j)>len(i)):\n",
    "    i,j=j,i\n",
    "k=i.copy()\n",
    "for n in k:\n",
    "    if n in j:\n",
    "        j.remove(n)\n",
    "        i.remove(n)\n",
    "result=i.copy()+j.copy()\n",
    "print(result)"
   ]
  },
  {
   "cell_type": "code",
   "execution_count": null,
   "metadata": {},
   "outputs": [],
   "source": [
    "l=input(\"Enter elements to list:\").split()\n",
    "l=list(set(l))\n",
    "l.sort()\n",
    "print(f\"Second Smallest number: {l[1]}\\nSecond Largest number: {l[-2]}\")"
   ]
  },
  {
   "cell_type": "code",
   "execution_count": null,
   "metadata": {},
   "outputs": [],
   "source": [
    "l=input(\"Enter elements to list:\").split()\n",
    "for i in range(len(l)):\n",
    "    l[i]=(int(l[i]),int(l[i])**2)\n",
    "print(l)"
   ]
  },
  {
   "cell_type": "code",
   "execution_count": null,
   "metadata": {},
   "outputs": [],
   "source": [
    "i=int(input(\"Enter number of tuples to be added:\"))\n",
    "l=[]\n",
    "for k in range(i):\n",
    "    l.append(tuple(input(f\"Enter {k}th tuple:\").split()))\n",
    "k=int(input(\"Enter the length of the tuples to be removed\"))\n",
    "i=0\n",
    "while i<len(l):\n",
    "    if len(l[i])==k:\n",
    "        l.pop(i)\n",
    "        continue\n",
    "    i+=1\n",
    "print(l)"
   ]
  },
  {
   "cell_type": "code",
   "execution_count": null,
   "metadata": {},
   "outputs": [],
   "source": [
    "l = input(\"Enter elements to list: \").split()\n",
    "dict1 = {}\n",
    "for i in l:\n",
    "    dict1[int(i)] = int(i)**2 \n",
    "print(dict1)\n"
   ]
  },
  {
   "cell_type": "code",
   "execution_count": null,
   "metadata": {},
   "outputs": [],
   "source": [
    "i=int(input(\"Enter number of elements to be added in dictionary:\"))\n",
    "dict1={}\n",
    "for j in range(i):\n",
    "    l=input(f\"{j}th key:value pair: \").split(':')\n",
    "    dict1.update({l[0]:l[1]})\n",
    "print(dict1)\n",
    "k=input(\"Enter the key of the element to be removed :\")\n",
    "dict1.pop(k)\n",
    "print(dict1)"
   ]
  },
  {
   "cell_type": "code",
   "execution_count": null,
   "metadata": {},
   "outputs": [],
   "source": [
    "i=int(input(\"Enter number of elements to be added in dictionary:\"))\n",
    "dict1={}\n",
    "for j in range(i):\n",
    "    l=input(f\"{j}th key:value pair: \").split(':')\n",
    "    dict1.update({l[0]:int(l[1])})\n",
    "max_key = max(dict1, key=dict1.get)\n",
    "min_key = min(dict1, key=dict1.get)\n",
    "\n",
    "print(f\"Max: {max_key}:{dict1[max_key]}\")\n",
    "print(f\"Min: {min_key}:{dict1[min_key]}\")\n"
   ]
  },
  {
   "cell_type": "code",
   "execution_count": null,
   "metadata": {},
   "outputs": [],
   "source": [
    "def unicode_conversion(string):\n",
    "    return [ord(char) for char in string]\n",
    "\n",
    "def character(ascii_values):\n",
    "    return ''.join(chr(n) for n in ascii_values)\n",
    "\n",
    "def locate(string, n):\n",
    "    print(string.find(n))\n",
    "\n",
    "def index(string, n):\n",
    "    print(string[n])\n",
    "\n",
    "def splitting(string, n):\n",
    "    return string[:n], string[n:]\n",
    "\n",
    "def concat(str1, str2):\n",
    "    return str1 + str2\n",
    "\n",
    "def string_menu():\n",
    "    print(\"\"\"String:\n",
    "    1 -> Unicode values of string\n",
    "    2 -> Location of character\n",
    "    3 -> Character at index\n",
    "    4 -> Split string\n",
    "    5 -> Show all stored strings\n",
    "    6 -> Exit\n",
    "    Enter your choice: \"\"\", end=\"\")\n",
    "    return int(input())\n",
    "\n",
    "def string_operations(mode, choice):\n",
    "    global l, l2, i\n",
    "\n",
    "    if choice == 1:\n",
    "        print(l2[i])\n",
    "\n",
    "    elif choice == 2:\n",
    "        char = input(\"Enter character to find: \")\n",
    "        locate(l[i], char)\n",
    "\n",
    "    elif choice == 3:\n",
    "        z = int(input(\"Enter index: \"))\n",
    "        index(l[i], z)\n",
    "\n",
    "    elif choice == 4:\n",
    "        z = int(input(\"Index to split at: \"))\n",
    "        str1, str2 = splitting(l[i], z)\n",
    "        print(\"Save split? (1: Yes, 2: No)\")\n",
    "        while True:\n",
    "            m = int(input(\"Choice: \"))\n",
    "            if m == 1:\n",
    "                l[i] = str1\n",
    "                l2[i] = unicode_conversion(str1)\n",
    "                l.insert(i + 1, str2)\n",
    "                l2.insert(i + 1, unicode_conversion(str2))\n",
    "                break\n",
    "            elif m == 2:\n",
    "                break\n",
    "            else:\n",
    "                print(\"Invalid choice\")\n",
    "    \n",
    "    elif choice == 5:\n",
    "        mode = 1  # Switch to list mode\n",
    "    \n",
    "    elif choice == 6:\n",
    "        mode = 3  # Exit\n",
    "    \n",
    "    else:\n",
    "        print(\"Invalid choice\")\n",
    "    \n",
    "    return mode\n",
    "\n",
    "\n",
    "if __name__ == \"__main__\":\n",
    "    l = []\n",
    "    l2 = []\n",
    "\n",
    "    l.append(input(\"Enter a string: \"))\n",
    "    l2.append(unicode_conversion(l[0]))\n",
    "\n",
    "    mode = 0  # 0: String Mode, 1: List Mode\n",
    "    i = 0  # Current working string index\n",
    "\n",
    "    while mode != 3:\n",
    "        if mode == 0:\n",
    "            choice = string_menu()\n",
    "            mode = string_operations(mode, choice)\n",
    "        \n",
    "        elif mode == 1:\n",
    "            print(l)\n",
    "            print(\"\"\"List:\n",
    "    1 -> Select a string\n",
    "    2 -> Delete a string\n",
    "    3 -> Update a string\n",
    "    4 -> Add more strings\n",
    "    5 -> String Mode\n",
    "    6 -> Exit\n",
    "    Enter your choice: \"\"\", end=\"\")\n",
    "            list_choice = int(input())\n",
    "\n",
    "            if list_choice == 1:\n",
    "                i = int(input(\"Enter index of string: \"))\n",
    "                mode = 0  # Switch to string mode\n",
    "            elif list_choice == 2:\n",
    "                d = int(input(\"Index to remove: \"))\n",
    "                l.pop(d)\n",
    "                l2.pop(d)\n",
    "            elif list_choice == 3:\n",
    "                d = int(input(\"Index to update: \"))\n",
    "                l[d] = input(\"Enter new string: \")\n",
    "                l2[d] = unicode_conversion(l[d])\n",
    "            elif list_choice == 4:\n",
    "                n = int(input(\"Number of strings to add: \"))\n",
    "                for _ in range(n):\n",
    "                    new_str = input(\"Enter string: \")\n",
    "                    l.append(new_str)\n",
    "                    l2.append(unicode_conversion(new_str))\n",
    "            elif list_choice == 5:\n",
    "                mode = 0  # Return to string mode\n",
    "\n",
    "            elif list_choice ==6:\n",
    "                mode=3\n",
    "                \n",
    "            else:\n",
    "                print(\"Invalid choice\")"
   ]
  },
  {
   "cell_type": "code",
   "execution_count": null,
   "metadata": {},
   "outputs": [],
   "source": [
    "str=input(\"Enter a string:\\n\")\n",
    "i=input(\"Enter the element whose occurenece should be counted:\")\n",
    "print(str.count(i))"
   ]
  },
  {
   "cell_type": "code",
   "execution_count": null,
   "metadata": {},
   "outputs": [],
   "source": [
    "str=input(\"Enter a string:\\n\")\n",
    "i=input(\"Enter the element to be replaced:\")\n",
    "j=input(\"Enter the alternate element to replace with:\")\n",
    "print(str.replace(i,j))"
   ]
  },
  {
   "cell_type": "code",
   "execution_count": null,
   "metadata": {},
   "outputs": [],
   "source": [
    "str1=input(\"Enter a string:\\n\")\n",
    "print(str1)\n",
    "print(\"It's acronym is:\\n\")\n",
    "l=str1.split()\n",
    "new_str=str1+'('\n",
    "for i in l:\n",
    "    new_str+=i[0].upper()\n",
    "new_str+=')'\n",
    "print(new_str)"
   ]
  },
  {
   "cell_type": "code",
   "execution_count": null,
   "metadata": {},
   "outputs": [],
   "source": [
    "str=input(\"ENter a string: \")\n",
    "lower=0\n",
    "upper=0\n",
    "for x in str :\n",
    "    if x.islower() :\n",
    "        lower+=1\n",
    "    if x.isupper() :\n",
    "        upper+=1\n",
    "print(\"upper=\", upper)\n",
    "print(\"lower= \", lower)"
   ]
  },
  {
   "cell_type": "code",
   "execution_count": null,
   "metadata": {},
   "outputs": [],
   "source": [
    "str=input(\"Enter list of strings: \")\n",
    "l=str.split()\n",
    "count=0\n",
    "for i in l:\n",
    "    if len(i)>=2 and i[0]==i[-1]:\n",
    "        count+=1\n",
    "print(count)\n"
   ]
  }
 ],
 "metadata": {
  "kernelspec": {
   "display_name": ".venv",
   "language": "python",
   "name": "python3"
  },
  "language_info": {
   "codemirror_mode": {
    "name": "ipython",
    "version": 3
   },
   "file_extension": ".py",
   "mimetype": "text/x-python",
   "name": "python",
   "nbconvert_exporter": "python",
   "pygments_lexer": "ipython3",
   "version": "3.12.7"
  }
 },
 "nbformat": 4,
 "nbformat_minor": 2
}
